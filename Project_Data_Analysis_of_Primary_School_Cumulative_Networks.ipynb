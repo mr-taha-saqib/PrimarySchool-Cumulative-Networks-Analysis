{
  "nbformat": 4,
  "nbformat_minor": 0,
  "metadata": {
    "colab": {
      "provenance": []
    },
    "kernelspec": {
      "name": "python3",
      "display_name": "Python 3"
    },
    "language_info": {
      "name": "python"
    }
  },
  "cells": [
    {
      "cell_type": "code",
      "execution_count": 1,
      "metadata": {
        "colab": {
          "base_uri": "https://localhost:8080/"
        },
        "id": "KraFbgRpLKPL",
        "outputId": "0262046b-4439-479b-da8e-b1f23b7a6fc6"
      },
      "outputs": [
        {
          "output_type": "stream",
          "name": "stdout",
          "text": [
            "Requirement already satisfied: networkx in /usr/local/lib/python3.10/dist-packages (3.4.2)\n",
            "Requirement already satisfied: matplotlib in /usr/local/lib/python3.10/dist-packages (3.8.0)\n",
            "Requirement already satisfied: numpy in /usr/local/lib/python3.10/dist-packages (1.26.4)\n",
            "Requirement already satisfied: pandas in /usr/local/lib/python3.10/dist-packages (2.2.2)\n",
            "Requirement already satisfied: contourpy>=1.0.1 in /usr/local/lib/python3.10/dist-packages (from matplotlib) (1.3.1)\n",
            "Requirement already satisfied: cycler>=0.10 in /usr/local/lib/python3.10/dist-packages (from matplotlib) (0.12.1)\n",
            "Requirement already satisfied: fonttools>=4.22.0 in /usr/local/lib/python3.10/dist-packages (from matplotlib) (4.55.0)\n",
            "Requirement already satisfied: kiwisolver>=1.0.1 in /usr/local/lib/python3.10/dist-packages (from matplotlib) (1.4.7)\n",
            "Requirement already satisfied: packaging>=20.0 in /usr/local/lib/python3.10/dist-packages (from matplotlib) (24.2)\n",
            "Requirement already satisfied: pillow>=6.2.0 in /usr/local/lib/python3.10/dist-packages (from matplotlib) (11.0.0)\n",
            "Requirement already satisfied: pyparsing>=2.3.1 in /usr/local/lib/python3.10/dist-packages (from matplotlib) (3.2.0)\n",
            "Requirement already satisfied: python-dateutil>=2.7 in /usr/local/lib/python3.10/dist-packages (from matplotlib) (2.8.2)\n",
            "Requirement already satisfied: pytz>=2020.1 in /usr/local/lib/python3.10/dist-packages (from pandas) (2024.2)\n",
            "Requirement already satisfied: tzdata>=2022.7 in /usr/local/lib/python3.10/dist-packages (from pandas) (2024.2)\n",
            "Requirement already satisfied: six>=1.5 in /usr/local/lib/python3.10/dist-packages (from python-dateutil>=2.7->matplotlib) (1.16.0)\n"
          ]
        }
      ],
      "source": [
        "pip install networkx matplotlib numpy pandas\n"
      ]
    },
    {
      "cell_type": "markdown",
      "source": [
        "1. Data Loading and Preparation\n",
        "\n",
        "    Load GEXF Files"
      ],
      "metadata": {
        "id": "SPSlnzI4Rrbq"
      }
    },
    {
      "cell_type": "code",
      "source": [
        "import networkx as nx\n",
        "\n",
        "# Load Day 1 and Day 2 graphs\n",
        "graph_day1 = nx.read_gexf(\"first_graph.gexf\")\n",
        "graph_day2 = nx.read_gexf(\"second_graph.gexf\")\n",
        "\n",
        "# Check basic structure\n",
        "def graph_info(graph, name):\n",
        "    print(f\"Graph Info: {name}\")\n",
        "    print(f\" - Number of Nodes: {graph.number_of_nodes()}\")\n",
        "    print(f\" - Number of Edges: {graph.number_of_edges()}\")\n",
        "\n",
        "graph_info(graph_day1, \"Day 1\")\n",
        "graph_info(graph_day2, \"Day 2\")\n",
        "\n"
      ],
      "metadata": {
        "colab": {
          "base_uri": "https://localhost:8080/"
        },
        "id": "cnTNLrO2O-3j",
        "outputId": "676e33fe-5b31-4783-e1cf-6fecabd0b11b"
      },
      "execution_count": 13,
      "outputs": [
        {
          "output_type": "stream",
          "name": "stdout",
          "text": [
            "Graph Info: Day 1\n",
            " - Number of Nodes: 236\n",
            " - Number of Edges: 5899\n",
            "Graph Info: Day 2\n",
            " - Number of Nodes: 238\n",
            " - Number of Edges: 5539\n"
          ]
        }
      ]
    },
    {
      "cell_type": "markdown",
      "source": [
        "Integrate Metadata\n"
      ],
      "metadata": {
        "id": "aWbH6nWZR1c9"
      }
    },
    {
      "cell_type": "code",
      "source": [
        "# Load metadata\n",
        "metadata = {}\n",
        "with open(\"metadata.txt\", \"r\") as file:\n",
        "    for line in file:\n",
        "        node_id, classname, gender = line.strip().split(\"\\t\")\n",
        "        metadata[node_id] = {\"classname\": classname, \"gender\": gender}\n",
        "\n",
        "# Annotate graphs with metadata\n",
        "for graph in [graph_day1, graph_day2]:\n",
        "    for node in graph.nodes:\n",
        "        if node in metadata:\n",
        "            graph.nodes[node]['classname'] = metadata[node]['classname']\n",
        "            graph.nodes[node]['gender'] = metadata[node]['gender']\n"
      ],
      "metadata": {
        "id": "qlhvqUusPKvi"
      },
      "execution_count": 14,
      "outputs": []
    },
    {
      "cell_type": "markdown",
      "source": [
        "2. Basic Properties Analysis\n"
      ],
      "metadata": {
        "id": "gESMu3oOR54A"
      }
    },
    {
      "cell_type": "markdown",
      "source": [
        "Degree Distribution"
      ],
      "metadata": {
        "id": "d8COBrPjR-MN"
      }
    },
    {
      "cell_type": "code",
      "source": [
        "import matplotlib.pyplot as plt\n",
        "\n",
        "def plot_degree_distribution(graph, title):\n",
        "    degrees = [d for _, d in graph.degree()]\n",
        "    plt.hist(degrees, bins=20, edgecolor=\"black\")\n",
        "    plt.title(f\"Degree Distribution: {title}\")\n",
        "    plt.xlabel(\"Degree\")\n",
        "    plt.ylabel(\"Frequency\")\n",
        "    plt.show()\n",
        "\n",
        "plot_degree_distribution(graph_day1, \"Day 1\")\n",
        "plot_degree_distribution(graph_day2, \"Day 2\")\n"
      ],
      "metadata": {
        "colab": {
          "base_uri": "https://localhost:8080/",
          "height": 927
        },
        "id": "doTwgBdwPS54",
        "outputId": "0047aa70-26c1-4791-914e-cbf05e960426"
      },
      "execution_count": 15,
      "outputs": [
        {
          "output_type": "display_data",
          "data": {
            "text/plain": [
              "<Figure size 640x480 with 1 Axes>"
            ],
            "image/png": "[encoded data removed]"
          },
          "metadata": {}
        },
        {
          "output_type": "display_data",
          "data": {
            "text/plain": [
              "<Figure size 640x480 with 1 Axes>"
            ],
            "image/png": "[encoded data removed]"
          },
          "metadata": {}
        }
      ]
    },
    {
      "cell_type": "markdown",
      "source": [
        "Centrality Metrics"
      ],
      "metadata": {
        "id": "EioKMIRWSAuH"
      }
    },
    {
      "cell_type": "code",
      "source": [
        "def compute_centrality(graph, name):\n",
        "    degree_centrality = nx.degree_centrality(graph)\n",
        "    closeness_centrality = nx.closeness_centrality(graph)\n",
        "    betweenness_centrality = nx.betweenness_centrality(graph)\n",
        "\n",
        "    print(f\"Centrality Metrics for {name}:\")\n",
        "    print(f\" - Average Degree Centrality: {sum(degree_centrality.values()) / len(degree_centrality)}\")\n",
        "    print(f\" - Average Closeness Centrality: {sum(closeness_centrality.values()) / len(closeness_centrality)}\")\n",
        "    print(f\" - Average Betweenness Centrality: {sum(betweenness_centrality.values()) / len(betweenness_centrality)}\")\n",
        "\n",
        "compute_centrality(graph_day1, \"Day 1\")\n",
        "compute_centrality(graph_day2, \"Day 2\")\n"
      ],
      "metadata": {
        "colab": {
          "base_uri": "https://localhost:8080/"
        },
        "id": "ZFVR4YTEPhyK",
        "outputId": "2812a23b-10e3-454e-9756-5b97386bb135"
      },
      "execution_count": 16,
      "outputs": [
        {
          "output_type": "stream",
          "name": "stdout",
          "text": [
            "Centrality Metrics for Day 1:\n",
            " - Average Degree Centrality: 0.2127298954201225\n",
            " - Average Closeness Centrality: 0.5411177705254585\n",
            " - Average Betweenness Centrality: 0.0036770938321605442\n",
            "Centrality Metrics for Day 2:\n",
            " - Average Degree Centrality: 0.19639754636031628\n",
            " - Average Closeness Centrality: 0.521376474561078\n",
            " - Average Betweenness Centrality: 0.0039853315280199185\n"
          ]
        }
      ]
    },
    {
      "cell_type": "markdown",
      "source": [
        "Clustering Coefficient"
      ],
      "metadata": {
        "id": "7T5y2zzVSFry"
      }
    },
    {
      "cell_type": "code",
      "source": [
        "print(f\"Day 1 - Average Clustering Coefficient: {nx.average_clustering(graph_day1)}\")\n",
        "print(f\"Day 2 - Average Clustering Coefficient: {nx.average_clustering(graph_day2)}\")\n"
      ],
      "metadata": {
        "colab": {
          "base_uri": "https://localhost:8080/"
        },
        "id": "jRDZPXIjPmpD",
        "outputId": "1c9bd6d5-cbbb-48f9-e3fb-d292a842f92e"
      },
      "execution_count": 17,
      "outputs": [
        {
          "output_type": "stream",
          "name": "stdout",
          "text": [
            "Day 1 - Average Clustering Coefficient: 0.5018529176737271\n",
            "Day 2 - Average Clustering Coefficient: 0.5595585328496339\n"
          ]
        }
      ]
    },
    {
      "cell_type": "markdown",
      "source": [
        "3. Community Detection\n"
      ],
      "metadata": {
        "id": "LZ1bYSs3SJY_"
      }
    },
    {
      "cell_type": "code",
      "source": [
        "import community.community_louvain as community_louvain\n",
        "\n",
        "def detect_communities(graph, name):\n",
        "    partition = community_louvain.best_partition(graph)\n",
        "    num_communities = len(set(partition.values()))\n",
        "    print(f\"{name}: Number of Communities = {num_communities}\")\n",
        "    return partition\n",
        "\n",
        "partition_day1 = detect_communities(graph_day1, \"Day 1\")\n",
        "partition_day2 = detect_communities(graph_day2, \"Day 2\")\n"
      ],
      "metadata": {
        "colab": {
          "base_uri": "https://localhost:8080/"
        },
        "id": "im0NqNIzPqch",
        "outputId": "bb6213d9-3481-43ce-a86a-e38a7f0b68d7"
      },
      "execution_count": 18,
      "outputs": [
        {
          "output_type": "stream",
          "name": "stdout",
          "text": [
            "Day 1: Number of Communities = 4\n",
            "Day 2: Number of Communities = 6\n"
          ]
        }
      ]
    },
    {
      "cell_type": "markdown",
      "source": [
        "4. Epidemiological Modeling"
      ],
      "metadata": {
        "id": "RklJ7G6ISNiV"
      }
    },
    {
      "cell_type": "code",
      "source": [
        "import random\n",
        "\n",
        "def si_model(graph, infection_prob, steps):\n",
        "    infected = set(random.sample(list(graph.nodes), 1))  # Random starting node\n",
        "    for _ in range(steps):\n",
        "        new_infected = set()\n",
        "        for node in infected:\n",
        "            for neighbor in graph.neighbors(node):\n",
        "                if neighbor not in infected:\n",
        "                    weight = graph[node][neighbor].get('duration', 1)  # Use duration as weight\n",
        "                    if random.random() < infection_prob * weight:\n",
        "                        new_infected.add(neighbor)\n",
        "        infected.update(new_infected)\n",
        "    return len(infected)\n",
        "\n",
        "# Simulate on both graphs\n",
        "infection_prob = 0.001\n",
        "steps = 10\n",
        "\n",
        "print(f\"Day 1 - Final Infected Count: {si_model(graph_day1, infection_prob, steps)}\")\n",
        "print(f\"Day 2 - Final Infected Count: {si_model(graph_day2, infection_prob, steps)}\")\n"
      ],
      "metadata": {
        "colab": {
          "base_uri": "https://localhost:8080/"
        },
        "id": "lZ39cEutPsi2",
        "outputId": "8beeb4bd-d267-48c3-8386-6e9d81208e2c"
      },
      "execution_count": 19,
      "outputs": [
        {
          "output_type": "stream",
          "name": "stdout",
          "text": [
            "Day 1 - Final Infected Count: 236\n",
            "Day 2 - Final Infected Count: 238\n"
          ]
        }
      ]
    },
    {
      "cell_type": "code",
      "source": [],
      "metadata": {
        "id": "VFnyYEkiPu29"
      },
      "execution_count": null,
      "outputs": []
    }
  ]
}